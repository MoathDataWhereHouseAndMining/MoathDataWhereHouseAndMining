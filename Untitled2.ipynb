{
 "cells": [
  {
   "cell_type": "code",
   "execution_count": 1,
   "metadata": {},
   "outputs": [
    {
     "name": "stdout",
     "output_type": "stream",
     "text": [
      "3.7.4\n"
     ]
    }
   ],
   "source": [
    "from platform import python_version\n",
    "print(python_version())"
   ]
  },
  {
   "cell_type": "code",
   "execution_count": 2,
   "metadata": {},
   "outputs": [],
   "source": [
    "# filname.py\n",
    "\"\"\"This is the file header.\n",
    "The header contains the basic information about the file\n",
    "\"\"\"\n",
    "if __name__ == \"__main__\":\n",
    "    pass"
   ]
  },
  {
   "cell_type": "markdown",
   "metadata": {},
   "source": [
    "The difference between # in code and markdown that in code it will be ignored while in markdown it will be as a header"
   ]
  },
  {
   "cell_type": "code",
   "execution_count": 3,
   "metadata": {},
   "outputs": [
    {
     "name": "stdout",
     "output_type": "stream",
     "text": [
      "Hello, world!\n"
     ]
    }
   ],
   "source": [
    "\"\"\"This is the file header.\n",
    "The header contains the basic information about the file\n",
    "\"\"\"\n",
    "if __name__ == \"__main__\": #this is used when it is run as the main program\n",
    "    print(\"Hello, world!\")"
   ]
  },
  {
   "cell_type": "code",
   "execution_count": 4,
   "metadata": {},
   "outputs": [
    {
     "name": "stdout",
     "output_type": "stream",
     "text": [
      "Help on built-in function print in module builtins:\n",
      "\n",
      "print(...)\n",
      "    print(value, ..., sep=' ', end='\\n', file=sys.stdout, flush=False)\n",
      "    \n",
      "    Prints the values to a stream, or to sys.stdout by default.\n",
      "    Optional keyword arguments:\n",
      "    file:  a file-like object (stream); defaults to the current sys.stdout.\n",
      "    sep:   string inserted between values, default a space.\n",
      "    end:   string appended after the last value, default a newline.\n",
      "    flush: whether to forcibly flush the stream.\n",
      "\n"
     ]
    }
   ],
   "source": [
    "help(print)"
   ]
  },
  {
   "cell_type": "markdown",
   "metadata": {},
   "source": [
    "The difference between print() and help(print) that print() will print to the screen while help(print) gives information and various knowledege about print()"
   ]
  },
  {
   "cell_type": "code",
   "execution_count": 5,
   "metadata": {},
   "outputs": [
    {
     "name": "stdout",
     "output_type": "stream",
     "text": [
      "4\n",
      "5\n",
      "16\n",
      "2.0\n"
     ]
    }
   ],
   "source": [
    "print(3+1)\n",
    "print(7-2)\n",
    "print(4*4)\n",
    "print(20/10)"
   ]
  },
  {
   "cell_type": "code",
   "execution_count": 6,
   "metadata": {},
   "outputs": [
    {
     "data": {
      "text/plain": [
       "True"
      ]
     },
     "execution_count": 6,
     "metadata": {},
     "output_type": "execute_result"
    }
   ],
   "source": [
    "x = 5\n",
    "y = 2*2 + 1\n",
    "x==y"
   ]
  },
  {
   "cell_type": "code",
   "execution_count": 7,
   "metadata": {},
   "outputs": [
    {
     "data": {
      "text/plain": [
       "False"
      ]
     },
     "execution_count": 7,
     "metadata": {},
     "output_type": "execute_result"
    }
   ],
   "source": [
    "x,y=5,2**(2+1)\n",
    "x==y"
   ]
  },
  {
   "cell_type": "code",
   "execution_count": 8,
   "metadata": {},
   "outputs": [
    {
     "data": {
      "text/plain": [
       "7"
      ]
     },
     "execution_count": 8,
     "metadata": {},
     "output_type": "execute_result"
    }
   ],
   "source": [
    "def add(x,y):\n",
    "    return x+y\n",
    "add(2,5)"
   ]
  },
  {
   "cell_type": "code",
   "execution_count": 9,
   "metadata": {},
   "outputs": [
    {
     "data": {
      "text/plain": [
       "False"
      ]
     },
     "execution_count": 9,
     "metadata": {},
     "output_type": "execute_result"
    }
   ],
   "source": [
    "def compare(x,y):\n",
    "    return x==y\n",
    "compare(7,8)"
   ]
  },
  {
   "cell_type": "code",
   "execution_count": 10,
   "metadata": {},
   "outputs": [
    {
     "name": "stdout",
     "output_type": "stream",
     "text": [
      "first variable is 2 second variable is 5 and summation is 7\n"
     ]
    }
   ],
   "source": [
    "def add(x,y):\n",
    "    return x,y,x+y\n",
    "FV, SV, S=add(2,5)\n",
    "print(\"first variable is {} second variable is {} and summation is {}\".format(FV,SV,S))"
   ]
  },
  {
   "cell_type": "code",
   "execution_count": 11,
   "metadata": {},
   "outputs": [
    {
     "name": "stdout",
     "output_type": "stream",
     "text": [
      "113.09723999999999\n"
     ]
    }
   ],
   "source": [
    "def sphere_volume(r):\n",
    "    return 4/3*3.14159*(r**3)\n",
    "if __name__ == \"__main__\":\n",
    "    print(sphere_volume(3))"
   ]
  },
  {
   "cell_type": "code",
   "execution_count": 12,
   "metadata": {},
   "outputs": [
    {
     "name": "stdout",
     "output_type": "stream",
     "text": [
      "IS-372 Data Mining & Data Warehouse is in 8 which is delivered by A/Prof. Mohammed Al-Sarem\n"
     ]
    }
   ],
   "source": [
    "def information(Course, Professor, level='8'):\n",
    "    print(Course + ' is in '+ level+ ' which is delivered by '+ Professor)\n",
    "if __name__ == \"__main__\":\n",
    "    Course =\"IS-372 Data Mining & Data Warehouse\"\n",
    "    Professor = \"A/Prof. Mohammed Al-Sarem\"\n",
    "    information(Course,Professor)"
   ]
  },
  {
   "cell_type": "markdown",
   "metadata": {},
   "source": [
    "Yes, it is possible to reorder the sequence of the variables"
   ]
  },
  {
   "cell_type": "code",
   "execution_count": 13,
   "metadata": {},
   "outputs": [
    {
     "name": "stdout",
     "output_type": "stream",
     "text": [
      "IS-372 Data Mining & Data Warehouse is in 8 which is delivered by A/Prof. Mohammed Al-Sarem\n"
     ]
    }
   ],
   "source": [
    "if __name__ == \"__main__\":\n",
    "    information(Professor=\"A/Prof. Mohammed Al-Sarem\",Course=\"IS-372 Data Mining & Data Warehouse\")"
   ]
  },
  {
   "cell_type": "code",
   "execution_count": 14,
   "metadata": {},
   "outputs": [
    {
     "name": "stdout",
     "output_type": "stream",
     "text": [
      "-\n"
     ]
    }
   ],
   "source": [
    "Course_Name = \"IS-372 Data Mining & Data Warehouse\"\n",
    "print(Course_Name[2])"
   ]
  },
  {
   "cell_type": "code",
   "execution_count": 15,
   "metadata": {},
   "outputs": [
    {
     "name": "stdout",
     "output_type": "stream",
     "text": [
      "IS-372\n"
     ]
    }
   ],
   "source": [
    "print(Course_Name[:6])"
   ]
  },
  {
   "cell_type": "code",
   "execution_count": 16,
   "metadata": {},
   "outputs": [
    {
     "name": "stdout",
     "output_type": "stream",
     "text": [
      "e\n"
     ]
    }
   ],
   "source": [
    "print(Course_Name[-1])"
   ]
  },
  {
   "cell_type": "code",
   "execution_count": 17,
   "metadata": {},
   "outputs": [
    {
     "name": "stdout",
     "output_type": "stream",
     "text": [
      "IS-37\n"
     ]
    }
   ],
   "source": [
    "print(Course_Name[:5])"
   ]
  },
  {
   "cell_type": "code",
   "execution_count": 18,
   "metadata": {},
   "outputs": [
    {
     "name": "stdout",
     "output_type": "stream",
     "text": [
      " Data Mining & Data Warehouse\n"
     ]
    }
   ],
   "source": [
    "print(Course_Name[6:])"
   ]
  },
  {
   "cell_type": "code",
   "execution_count": 19,
   "metadata": {},
   "outputs": [],
   "source": [
    "my_list = [\"Hello\", 93.8, \"world\", 10]"
   ]
  },
  {
   "cell_type": "code",
   "execution_count": 20,
   "metadata": {},
   "outputs": [
    {
     "data": {
      "text/plain": [
       "'Hello'"
      ]
     },
     "execution_count": 20,
     "metadata": {},
     "output_type": "execute_result"
    }
   ],
   "source": [
    "my_list[0]"
   ]
  },
  {
   "cell_type": "code",
   "execution_count": 21,
   "metadata": {},
   "outputs": [
    {
     "data": {
      "text/plain": [
       "'world'"
      ]
     },
     "execution_count": 21,
     "metadata": {},
     "output_type": "execute_result"
    }
   ],
   "source": [
    "my_list[-2]"
   ]
  },
  {
   "cell_type": "code",
   "execution_count": 22,
   "metadata": {},
   "outputs": [
    {
     "data": {
      "text/plain": [
       "['Hello', 93.8]"
      ]
     },
     "execution_count": 22,
     "metadata": {},
     "output_type": "execute_result"
    }
   ],
   "source": [
    "my_list[:2]"
   ]
  },
  {
   "cell_type": "code",
   "execution_count": 23,
   "metadata": {},
   "outputs": [
    {
     "data": {
      "text/plain": [
       "4"
      ]
     },
     "execution_count": 23,
     "metadata": {},
     "output_type": "execute_result"
    }
   ],
   "source": [
    "my_list = [1,2]\n",
    "my_list.append(4)\n",
    "my_list.insert(2,3)\n",
    "my_list.remove(3)\n",
    "my_list.pop()"
   ]
  },
  {
   "cell_type": "markdown",
   "metadata": {},
   "source": [
    "append method does not return any value as it inserts a new value at the end of the list\n",
    "\n",
    "insert method does not return any value as it inserts a new value at its position according to the order\n",
    "\n",
    "remove method does not return any value as it removes a value in the list\n",
    "\n",
    "pop method removes the last value in the list and returns it"
   ]
  },
  {
   "cell_type": "code",
   "execution_count": 24,
   "metadata": {},
   "outputs": [
    {
     "name": "stdout",
     "output_type": "stream",
     "text": [
      "3 10\n",
      "(3, 10)\n"
     ]
    }
   ],
   "source": [
    "def arithmetic(a,b):\n",
    "    \"\"\"Return the difference and the product of the two inputs.\"\"\"\n",
    "    return a-b,a*b\n",
    "x,y = arithmetic(5,2)\n",
    "print(x,y)\n",
    "both = arithmetic(5,2)\n",
    "print(both)"
   ]
  },
  {
   "cell_type": "code",
   "execution_count": 25,
   "metadata": {},
   "outputs": [
    {
     "name": "stdout",
     "output_type": "stream",
     "text": [
      "['fox', 'hawk', 'dog', 'bear', 'hunter']\n"
     ]
    }
   ],
   "source": [
    "def list_ops():\n",
    "    list_items = [\"bear\",\"ant\",\"cat\",\"dog\"]\n",
    "    list_items.append(\"eagle\")\n",
    "    list_items[2] = \"fox\"\n",
    "    list_items.remove(\"ant\")\n",
    "    list_items.sort(reverse=True)\n",
    "    num = list_items.index(\"eagle\")\n",
    "    list_items[num] = \"hawk\"\n",
    "    list_items.append(\"hunter\")\n",
    "    return list_items\n",
    "print(list_ops())"
   ]
  },
  {
   "cell_type": "code",
   "execution_count": 26,
   "metadata": {},
   "outputs": [
    {
     "name": "stdout",
     "output_type": "stream",
     "text": [
      "{'Muhannad, Al-Mohaeemid', 'Mohammed, Al-Sarem', 'Faisal, Saeed'}\n",
      "{'Wadii, Boulila', 'Mohammed, Al-Sarem', 'Faisal, Saeed'}\n"
     ]
    },
    {
     "data": {
      "text/plain": [
       "{'Mohammed, Al-Sarem'}"
      ]
     },
     "execution_count": 26,
     "metadata": {},
     "output_type": "execute_result"
    }
   ],
   "source": [
    "DataMining_Professors = {\"Muhannad, Al-Mohaeemid\",\"Faisal, Saeed\",\"Mohammed, Al-Sarem\"}\n",
    "print(DataMining_Professors)\n",
    "\n",
    "DataMining_Professors.add(\"Wadii, Boulila\")\n",
    "DataMining_Professors.discard(\"Muhannad, Al-Mohaeemid\")\n",
    "print(DataMining_Professors)\n",
    "\n",
    "Database_Professors = {\"Muhannad, Al-Mohaeemid\",\"Faisal, Saeed\",\"Essa, Hizzam\",\"Wadii, Boulila\"}\n",
    "DataMining_Professors.intersection(Database_Professors)\n",
    "DataMining_Professors.difference(Database_Professors)"
   ]
  },
  {
   "cell_type": "code",
   "execution_count": 27,
   "metadata": {},
   "outputs": [
    {
     "name": "stdout",
     "output_type": "stream",
     "text": [
      "Special Topics in Data Management\n"
     ]
    },
    {
     "data": {
      "text/plain": [
       "dict_values(['Data Mining & Data Warehouse', 'Decision Support System', 'Information Search, Retrieval & Visualization', 'Special Topics in Data Management'])"
      ]
     },
     "execution_count": 27,
     "metadata": {},
     "output_type": "execute_result"
    }
   ],
   "source": [
    "DataScience_Track = {\"IS-372\": \"Data Mining & Data Warehouse\",\n",
    "                    \"IS-472\": \"Decision Support System\",\n",
    "                    \"IS-476\": \"Information Search, Retrieval & Visualization\",\n",
    "                    \"IS-453\": \"Special Topics in Data Management\"\n",
    "                    }\n",
    "print(DataScience_Track[\"IS-453\"])\n",
    "\n",
    "DataScience_Track.keys()\n",
    "\n",
    "DataScience_Track.values()\n"
   ]
  },
  {
   "cell_type": "code",
   "execution_count": 28,
   "metadata": {},
   "outputs": [
    {
     "name": "stdout",
     "output_type": "stream",
     "text": [
      "0 1 2 3 4 5 6 7 8 9 "
     ]
    }
   ],
   "source": [
    "i = 0\n",
    "while i < 10:\n",
    "    print(i, end=' ')\n",
    "    i +=1"
   ]
  },
  {
   "cell_type": "code",
   "execution_count": 29,
   "metadata": {},
   "outputs": [
    {
     "name": "stdout",
     "output_type": "stream",
     "text": [
      "red!\n",
      "green!\n",
      "blue!\n",
      "yellow!\n"
     ]
    }
   ],
   "source": [
    "colors = [\"red\",\"green\",\"blue\",\"yellow\"]\n",
    "for entry in colors:\n",
    "    print(entry +\"!\")"
   ]
  },
  {
   "cell_type": "code",
   "execution_count": 30,
   "metadata": {},
   "outputs": [
    {
     "name": "stdout",
     "output_type": "stream",
     "text": [
      "\n",
      "s\n",
      "st\n",
      "sta\n"
     ]
    }
   ],
   "source": [
    "s = \"stab\" \n",
    "for i in range(len(s)): \n",
    "    print (s[0 : i : 1])"
   ]
  },
  {
   "cell_type": "code",
   "execution_count": null,
   "metadata": {},
   "outputs": [],
   "source": []
  }
 ],
 "metadata": {
  "kernelspec": {
   "display_name": "Python 3",
   "language": "python",
   "name": "python3"
  },
  "language_info": {
   "codemirror_mode": {
    "name": "ipython",
    "version": 3
   },
   "file_extension": ".py",
   "mimetype": "text/x-python",
   "name": "python",
   "nbconvert_exporter": "python",
   "pygments_lexer": "ipython3",
   "version": "3.8.5"
  }
 },
 "nbformat": 4,
 "nbformat_minor": 2
}
