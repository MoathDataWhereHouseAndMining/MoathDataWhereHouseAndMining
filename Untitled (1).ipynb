{
 "cells": [
  {
   "cell_type": "markdown",
   "metadata": {},
   "source": [
    "$$f(x)=a_0+\\sum_{n=1}^{\\infty} (a_n\\cos\\frac {n \\pi x}{L}\n",
    "+b_n \\sin\\frac {n \\pi x}{L}) $$\n",
    "\n",
    "$$(x+a)^n=\\sum_{k=0}^{n}\n",
    "\\begin{pmatrix} n \\\\ k \\end{pmatrix}x^k a^{n-k}$$"
   ]
  }
 ],
 "metadata": {
  "kernelspec": {
   "display_name": "Python 3",
   "language": "python",
   "name": "python3"
  },
  "language_info": {
   "codemirror_mode": {
    "name": "ipython",
    "version": 3
   },
   "file_extension": ".py",
   "mimetype": "text/x-python",
   "name": "python",
   "nbconvert_exporter": "python",
   "pygments_lexer": "ipython3",
   "version": "3.8.5"
  }
 },
 "nbformat": 4,
 "nbformat_minor": 4
}
